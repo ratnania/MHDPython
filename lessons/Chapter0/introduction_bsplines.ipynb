{
 "cells": [
  {
   "cell_type": "markdown",
   "metadata": {},
   "source": [
    "# Introduction to BSplines\n",
    "\n",
    "\n",
    "We start this section by recalling some basic properies about B-splines curves and surfaces. We also recall some fundamental algorithms (knot insertion and degree elevation). \n",
    "\n",
    "[//]: # (For a basic introduction to the subject, we refer to the books <cite data-cite=\"piegl\"></cite> and <cite data-cite=\"Farin_Book2002\"></cite>.)  \n",
    "\n",
    "A B-Splines family, $(N_i)_{ 1 \\leqslant i \\leqslant n}$ of order $k$, can be generated using a non-decreasing sequence **of knots** $T=(t_i)_{1\\leqslant i \\leqslant n + k}$.\n",
    "\n",
    "## B-Splines series\n",
    "\n",
    "The $j-th$ B-Spline of order $k$ is defined by the recurrence relation:\n",
    "\n",
    "$$\n",
    "   N_j^k = w_j^k N_j^{k-1} + ( 1 - w_{j+1}^k ) N_{j+1}^{k-1}\n",
    "$$\n",
    "where,\n",
    "\n",
    "$$\n",
    "   w_j^k (x) = \\frac{x-t_j}{t_{j+k-1}-t_{j}} \\hspace{2cm} N_j^1(x) = \\chi_{ \\left[ t_j, t_{j+1} \\right[ }(x)\n",
    "$$\n",
    "\n",
    "for $k \\geq 1$ and $1 \\leq j \\leq n$.\n",
    "\n",
    "We note some important properties of a B-splines basis:\n",
    "\n",
    "* B-splines are piecewise polynomial of degree $p=k-1$,\n",
    "\n",
    "* Compact support; the support of $N_j^k$ is contained in $\\left[ t_j, t_{j+k} \\right]$ ,\n",
    "\n",
    "* If $x \\in~ ] t_j,t_{j+1} [$, then only the *B-splines* $\\{ N_{j-k+1}^k,\\cdots,N_{j}^k \\}$ are non vanishing at $x$,\n",
    "\n",
    "* Positivity: $\\forall j \\in \\{1,\\cdots,n \\}~~N_j(x) >0, ~~\\forall x \\in ] t_j, t_{j+k} [$,\n",
    "\n",
    "* Partition of unity  $\\sum_{i=1}^n N_i^{k}(x) = 1, \\forall x \\in \\mathbb{R}$,\n",
    "\n",
    "* Local linear independence,\n",
    "\n",
    "* If a knot $t_i$ has a multiplicity $m_i$ then the B-spline is $\\mathcal{C}^{(p-m_i)}$ at $t_i$.\n",
    "\n"
   ]
  },
  {
   "cell_type": "markdown",
   "metadata": {},
   "source": [
    "### Knots vector families\n",
    "\n",
    "There are two kind of **knots vectors**, called **clamped** and **unclamped**. Both families contains **uniform** and **non-uniform** sequences. \n",
    "\n",
    "The following are examples of such knots vectors\n",
    "\n",
    "#### Clamped knots (open knots vector)\n",
    "\n",
    "##### uniform\n"
   ]
  },
  {
   "cell_type": "code",
   "execution_count": 5,
   "metadata": {},
   "outputs": [],
   "source": [
    "T1 = [0, 0, 0, 1, 2, 3, 4, 5, 5, 5]"
   ]
  },
  {
   "cell_type": "code",
   "execution_count": 8,
   "metadata": {},
   "outputs": [],
   "source": [
    "T2 = [-0.2, -0.2, 0.0, 0.2, 0.4, 0.6, 0.8, 0.8]"
   ]
  },
  {
   "cell_type": "markdown",
   "metadata": {},
   "source": [
    "##### non-uniform "
   ]
  },
  {
   "cell_type": "code",
   "execution_count": 9,
   "metadata": {},
   "outputs": [],
   "source": [
    "T3 = [0, 0, 0, 1, 3, 4, 5, 5, 5]"
   ]
  },
  {
   "cell_type": "code",
   "execution_count": 12,
   "metadata": {},
   "outputs": [],
   "source": [
    "T4 = [-0.2, -0.2, 0.4, 0.6, 0.8, 0.8]"
   ]
  },
  {
   "cell_type": "markdown",
   "metadata": {},
   "source": [
    "#### Unclamped knots\n",
    "\n",
    "##### uniform"
   ]
  },
  {
   "cell_type": "code",
   "execution_count": 10,
   "metadata": {},
   "outputs": [],
   "source": [
    "T5 = []"
   ]
  },
  {
   "cell_type": "code",
   "execution_count": 13,
   "metadata": {},
   "outputs": [],
   "source": [
    "T6 = [-0.2, 0.0, 0.2, 0.4, 0.6, 0.8, 1.0]"
   ]
  },
  {
   "cell_type": "markdown",
   "metadata": {},
   "source": [
    "##### non-uniform "
   ]
  },
  {
   "cell_type": "code",
   "execution_count": 14,
   "metadata": {},
   "outputs": [],
   "source": [
    "T7 = [0, 0, 3, 4, 7, 8, 9]"
   ]
  },
  {
   "cell_type": "code",
   "execution_count": 15,
   "metadata": {},
   "outputs": [],
   "source": [
    "T8 = [-0.2, 0.2, 0.4, 0.6, 1.0, 2.0, 2.5]"
   ]
  },
  {
   "cell_type": "markdown",
   "metadata": {},
   "source": [
    "## B-Spline curve\n",
    "\n",
    "The B-spline curve in $\\mathbb{R}^d$ associated to knots vector $T=(t_i)_{1\\leqslant i \\leqslant n + k}$ and the control polygon $(\\mathbf{P}_i)_{ 1 \\leqslant i \\leqslant n}$ is defined by :\n",
    "\n",
    "$$\n",
    "   \\mathcal{C}(t) = \\sum_{i=1}^n N_i^k(t) \\textbf{P}_i\n",
    "$$\n",
    "\n",
    "The following plot shows an example of a quadratic B-Spline curve, and its corresponding knot vector and control points.\n",
    "\n",
    "\n",
    "**TODO add curve**"
   ]
  },
  {
   "cell_type": "markdown",
   "metadata": {},
   "source": [
    "\n",
    "We have the following properties for a *B-spline* curve:\n",
    "\n",
    "* If $n=k$, then $\\mathcal{C}$ is just a B\\'ezier-curve,\n",
    "\n",
    "* $\\mathcal{C}$ is a piecewise polynomial curve,\n",
    "\n",
    "* The curve interpolates its extremas if the associated multiplicity of the first and the last knot are maximum (*i.e.* equal to $k$), *i.e.* open knot vector,\n",
    "\n",
    "* Invariance with respect to affine transformations,\n",
    "\n",
    "* Strong convex-hull property:\n",
    "\n",
    "if $t_i \\leq t \\leq t_{i+1}$, then $\\mathcal{C}(t)$ is inside the convex-hull associated to the control points $\\mathbf{P}_{i-p},\\cdots,\\mathbf{P}_{i}$,\n",
    "\n",
    "* Local modification : moving the $i^{th}$ control point $\\mathbf{P}_{i}$ affects $\\mathcal{C}(t)$, only in the interval $[t_i,t_{i+k}]$,\n",
    "* The control polygon approaches the behavior of the curve.\n",
    "\n",
    "**note**\n",
    "\n",
    "   In order to model a singular curve, we can use multiple control points : $\\mathbf{P}_{i}=\\mathbf{P}_{i+1}$.\n"
   ]
  },
  {
   "cell_type": "markdown",
   "metadata": {},
   "source": [
    "\n",
    "## Multivariate tensor product splines\n",
    "\n",
    "Let us consider $d$ knot vectors $\\mathcal{T} = \\{T^1,T^2,\\cdots,T^d\\}$. For simplicity, we consider that these knot vectors are open, which means that $k$ knots on each side are duplicated so that the spline is interpolating on the boundary, and of bounds $0$ and $1$. In the sequel we will use the notation $I=[0,1]$.\n",
    "Each knot vector $T^i$, will generate a basis for a Schoenberg space, $\\mathcal{S}_{k_{i}}(T^i,I)$. The tensor product of all these spaces is also a Schoenberg space, namely $\\mathcal{S}_{\\mathbf{k}}(\\mathcal{T})$, where $\\mathbf{k}=\\{k_1,\\cdots,k_d\\}$. The cube $\\mathcal{P}=I^d=[0,1]^d$, will be referred to as a patch.\n",
    "\n",
    "The basis for $\\mathcal{S}_{\\mathbf{k}}(\\mathcal{T})$ is defined by a tensor product :\n",
    "\n",
    "$$\n",
    "   N_{\\mathbf{i}}^{\\mathbf{k}} := N_{i_1}^{k_1} \\otimes N_{i_2}^{k_2} \\otimes \\cdots \\otimes N_{i_d}^{k_d}\n",
    "$$\n",
    "\n",
    "where, $\\mathbf{i}=\\{i_1,\\cdots , i_d \\}$.\n",
    "\n",
    "A typical cell from $\\mathcal{P}$ is a cube of the form : $Q_{\\mathbf{i}}=[\\xi_{i_1}, \\xi_{i_1+1}] \\otimes \\cdots \\otimes [\\xi_{i_d}, \\xi_{i_d+1}]$. \n",
    "\n"
   ]
  },
  {
   "cell_type": "markdown",
   "metadata": {},
   "source": [
    "\n",
    "## Deriving a B-spline curve\n",
    "\n",
    "The derivative of a B-spline curve is obtained as:\n",
    "\n",
    "$$\n",
    "   \\mathcal{C}^{\\prime}(t) = \\sum_{i=1}^{n} {N_{i}^{k}}^{\\prime}(t) \\mathbf{P}_i = \\sum_{i=1}^{n} \\left(\\frac{p}{t_{i+p}-t_{i}}N_{i}^{k-1}(t) \\mathbf{P}_i - \\frac{p}{t_{i+1+p}-t_{i+1}}N_{i+1}^{k-1}(t) \\mathbf{P}_i \\right)\n",
    "  = \\sum_{i=1}^{n-1} {N_{i}^{k-1}}^{\\ast}(t) \\mathbf{Q}_i\n",
    "$$\n",
    "\n",
    "where $\\mathbf{Q}_i = p \\frac{\\mathbf{P}_{i+1} - \\mathbf{P}_i}{t_{i+1+p}-t_{i+1}}$, and $\\{{N_{i}^{k-1}}^{\\ast},~~1 \\leq i \\leq n-1\\}$ are generated using the knot vector $T^{\\ast}$, which is obtained from $T$ by reducing by one the multiplicity of the first and the last knot (in the case of open knot vector), *i.e.* by removing the first and the last knot.\n",
    "\n",
    "More generally, by introducing the B-splines family $\\{ {N_{i}^{k-j}}^{\\ast}, 1 \\leq i \\leq n-j \\}$ generated by the knots vector $T^{j^{\\ast}}$ obtained from $T$ by removing the first and the last knot $j$ times, we have the following result:\n",
    "\n",
    "**proposition**\n",
    "\n",
    "The $j^{th}$ derivative of the curve $\\mathcal{C}$ is given by\n",
    "\n",
    "\n",
    "$$\n",
    "  \\mathcal{C}^{(j)}(t) = \\sum_{i=1}^{n-j} {N_{i}^{k-j}}^{\\ast}(t) \\mathbf{P}_i^{(j)}$\n",
    "$$\n",
    "\n",
    "where, for $j>0$\n",
    "\n",
    "\n",
    "$$\n",
    "  \\mathbf{P}_i^{(j)} = \\frac{p-j+1}{t_{i+p+1}-t_{i+j}} \\left( \\mathbf{P}_{i+1}^{(j-1)} - \\mathbf{P}_i^{(j-1)} \\right)\n",
    "  \\\\\n",
    "  \\mbox{and} ~ ~ ~ \\mathbf{P}_i^{(0)} = \\mathbf{P}_i.\n",
    "$$\n",
    "\n",
    "By denoting $\\mathcal{C}^{\\prime}$ and $\\mathcal{C}^{\\prime\\prime}$ the first and second derivative of the B-spline curve $\\mathcal{C}$, it is easy to show that:\n",
    "\n",
    "We have,\n",
    "\n",
    "* $\\mathcal{C}^{\\prime}(0) = \\frac{p}{t_{p+2}} \\left(\\mathbf{P}_{2} - \\mathbf{P}_1\\right)$,\n",
    "\n",
    "* $\\mathcal{C}^{\\prime}(1) = \\frac{p}{1-t_{n}} \\left(\\mathbf{P}_{n} - \\mathbf{P}_{n-1}\\right)$,\n",
    "\n",
    "* $\\mathcal{C}^{\\prime\\prime}(0) = \\frac{p(p-1)}{t_{p+2}} \\left( \\frac{1}{t_{p+2}}\\mathbf{P}_{1} - \\{ \\frac{1}{t_{p+2}} + \\frac{1}{t_{p+3}} \\} \\mathbf{P}_2 + \\frac{1}{t_{p+3}}\\mathbf{P}_{3} \\right)$,\n",
    "\n",
    "* $\\mathcal{C}^{\\prime\\prime}(1) = \\frac{p(p-1)}{1-t_{n}} \\left( \\frac{1}{1-t_{n}}\\mathbf{P}_{n} - \\{ \\frac{1}{1-t_{n}} + \\frac{1}{1-t_{n-1}} \\} \\mathbf{P}_{n-1} + \\frac{1}{1-t_{n-1}}\\mathbf{P}_{n-2} \\right)$.\n",
    "\n",
    "\n",
    "**Example**\n",
    "\n",
    "Let us consider the quadratic B-spline curve associated to the knots vector $T=\\{000~\\frac{2}{5}~\\frac{3}{5}~111 \\}$ and the control points $\\{ P_i, 1 \\leq i \\leq 5 \\}$:\n",
    "\n",
    "\n",
    "$$\n",
    "   \\mathcal{C}(t) = \\sum_{i=1}^{5} {N_{i}^{3}}^{\\prime}(t) \\mathbf{P}_i \n",
    "$$\n",
    "\n",
    "we have, \n",
    "\n",
    "\n",
    "$$\n",
    "   \\mathcal{C}^{\\prime}(t) = \\sum_{i=1}^{4} {N_{i}^{2}}^{\\ast}(t) \\mathbf{Q}_i\n",
    "$$\n",
    "\n",
    "where \n",
    "\n",
    "\n",
    "$$\n",
    "   \\mathbf{Q}_1 = 5 \\{\\mathbf{P}_{2} - \\mathbf{P}_1\\}, ~~~~\\mathbf{Q}_2 = \\frac{10}{3} \\{ \\mathbf{P}_{3} - \\mathbf{P}_2\\},\n",
    "   \\\\\n",
    "   \\mathbf{Q}_3 = \\frac{10}{3} \\{ \\mathbf{P}_{4} - \\mathbf{P}_3\\},~~~~\\mathbf{Q}_4 = 5 \\{\\mathbf{P}_{5} - \\mathbf{P}_4\\}.\n",
    "$$\n",
    "\n",
    "The *B-splines* $\\{ {N_{i}^{2}}^{\\ast},~~1 \\leq i \\leq 4\\}$ are associated to the knot vector $T^{\\ast}=\\{00~\\frac{2}{5}~\\frac{3}{5}~11 \\}$. \n"
   ]
  },
  {
   "cell_type": "markdown",
   "metadata": {},
   "source": [
    "## Fundamental geometric operations\n",
    "\n",
    "By inserting new knots into the knot vector, we add new control points without changing the shape of the B-Spline curve. This can be done using the DeBoor algorithm :cite:$DeBoor_Book2001$. We can also elevate the degree of the B-Spline family and keep unchanged the curve :cite:$qi$. In (Fig. \\ref{refinement_curve_B_Spline}), we apply these algorithms on a quadratic B-Spline curve and we show the position of the new control points.  \n",
    "\n",
    "\n",
    "### Knot insertion\n",
    "\n",
    "\n",
    "After modification, we denote by $\\widetilde{n}, \\widetilde{k}, \\widetilde{T}$ the new parameters. $(\\textbf{Q}_i)$ are the new control points.\n",
    "\n",
    "One can insert a new knot $t$, where $t_j \\leqslant t < t_{j+1}$. For this purpose we use the DeBoor algorithm :cite:$DeBoor_Book2001$:\n",
    "\n",
    "\n",
    "$$\n",
    "   \\widetilde{n} = n+1\n",
    "   \\\\\n",
    "   \\widetilde{k} = k\n",
    "   \\\\\n",
    "   \\widetilde{T} = \\{ t_1,.., t_j, t, t_{j+1},.., t_{n+k}\\}\n",
    "   \\\\\n",
    "   \\alpha_i = \\left\\{\\begin{array}{cc}1 & 1 \\leqslant i \\leqslant j-k+1 \\\\\\frac{t-t_i}{t_{i+k-1}-t_i} & j-k+2 \\leqslant i \\leqslant j \\\\0 & j+1 \\leqslant i \\end{array}\\right.\n",
    "   \\\\\n",
    "   \\textbf{Q}_i = \\alpha_i \\textbf{P}_i + (1-\\alpha_i) \\textbf{P}_{i-1}\n",
    "$$\n",
    "\n",
    "Many other algorithms exist, like blossoming for fast insertion algorithm. For more details about this topic, we refer to :cite:$goldman_lyche_book$. \n",
    "\n",
    "### Order elevation\n",
    "\n",
    "We can elevate the order of the basis, without changing the curve. Several algorithms exist for this purpose. We used the one by Huang et al. :cite:$prautzsch$, :cite:$qi$.\n",
    "\n",
    "A quadratic B-spline curve and its control points. The knot vector is $T = \\{ 000, \\frac{1}{4}, \\frac{1}{2}, \\frac{3}{4}, 1 1 1 \\}$.\n",
    "\n",
    "**TODO: plot**\n",
    "\n",
    "The curve after a h-refinement by inserting the knots $\\{ 0.15, 0.35\\}$ while the degree is kept equal to $2$.\n",
    "\n",
    "**TODO: plot**\n",
    "\n",
    "The curve after a p-refinement, the degree was raised by $1$ (using cubic B-splines).\n",
    "\n",
    "**TODO: plot**\n",
    "\n",
    "The curve after duplicating the multiplicity of the internal knots $\\{ \\frac{1}{4}, \\frac{1}{2}, \\frac{3}{4} \\}$, \n",
    "this leads to a B\\'ezier description. We can then, split the curve into $4$ pieces (sub-domains), each one will corresponds to a quadratic B\\'ezier curve.\n",
    "\n",
    "**TODO: plot**\n",
    "\n",
    "### Translation\n",
    "\n",
    "**TODO**\n",
    "\n",
    "### Rotation\n",
    "\n",
    "**TODO**\n",
    "\n",
    "### Scaling\n",
    "\n",
    "**TODO**\n"
   ]
  },
  {
   "cell_type": "markdown",
   "metadata": {},
   "source": []
  },
  {
   "cell_type": "markdown",
   "metadata": {},
   "source": []
  },
  {
   "cell_type": "code",
   "execution_count": null,
   "metadata": {},
   "outputs": [],
   "source": []
  },
  {
   "cell_type": "code",
   "execution_count": 4,
   "metadata": {},
   "outputs": [
    {
     "data": {
      "text/html": [
       "<link href='http://fonts.googleapis.com/css?family=Fenix' rel='stylesheet' type='text/css'>\n",
       "<link href='http://fonts.googleapis.com/css?family=Alegreya+Sans:100,300,400,500,700,800,900,100italic,300italic,400italic,500italic,700italic,800italic,900italic' rel='stylesheet' type='text/css'>\n",
       "<link href='http://fonts.googleapis.com/css?family=Source+Code+Pro:300,400' rel='stylesheet' type='text/css'>\n",
       "<style>\n",
       "    @font-face {\n",
       "        font-family: \"Computer Modern\";\n",
       "        src: url('http://mirrors.ctan.org/fonts/cm-unicode/fonts/otf/cmunss.otf');\n",
       "    }\n",
       "    div.cell{\n",
       "        width:600px;\n",
       "        margin-left:16% !important;\n",
       "        margin-right:auto;\n",
       "    }\n",
       "    h1 {\n",
       "        font-family: 'Alegreya Sans', sans-serif;\n",
       "    }\n",
       "    h2 {\n",
       "        font-family: 'Fenix', serif;\n",
       "    }\n",
       "    h3{\n",
       "\t\tfont-family: 'Fenix', serif;\n",
       "        margin-top:12px;\n",
       "        margin-bottom: 3px;\n",
       "       }\n",
       "\th4{\n",
       "\t\tfont-family: 'Fenix', serif;\n",
       "       }\n",
       "    h5 {\n",
       "        font-family: 'Alegreya Sans', sans-serif;\n",
       "    }\t   \n",
       "    div.text_cell_render{\n",
       "        font-family: 'Alegreya Sans',Computer Modern, \"Helvetica Neue\", Arial, Helvetica, Geneva, sans-serif;\n",
       "        line-height: 135%;\n",
       "        font-size: 120%;\n",
       "        width:600px;\n",
       "        margin-left:auto;\n",
       "        margin-right:auto;\n",
       "    }\n",
       "    .CodeMirror{\n",
       "            font-family: \"Source Code Pro\";\n",
       "\t\t\tfont-size: 90%;\n",
       "    }\n",
       "/*    .prompt{\n",
       "        display: None;\n",
       "    }*/\n",
       "    .text_cell_render h1 {\n",
       "        font-weight: 200;\n",
       "        font-size: 50pt;\n",
       "\t\tline-height: 100%;\n",
       "        color:#054BCD;\n",
       "        margin-bottom: 0.5em;\n",
       "        margin-top: 0.5em;\n",
       "        display: block;\n",
       "    }\t\n",
       "    .text_cell_render h5 {\n",
       "        font-weight: 300;\n",
       "        font-size: 16pt;\n",
       "        color: #054BCD;\n",
       "        font-style: italic;\n",
       "        margin-bottom: .5em;\n",
       "        margin-top: 0.5em;\n",
       "        display: block;\n",
       "    }\n",
       "    \n",
       "    .warning{\n",
       "        color: rgb( 240, 20, 20 )\n",
       "        }  \n",
       "</style>\n",
       "<script>\n",
       "    MathJax.Hub.Config({\n",
       "                        TeX: {\n",
       "                           extensions: [\"AMSmath.js\"]\n",
       "                           },\n",
       "                tex2jax: {\n",
       "                    inlineMath: [ ['$','$'], [\"\\\\(\",\"\\\\)\"] ],\n",
       "                    displayMath: [ ['$$','$$'], [\"\\\\[\",\"\\\\]\"] ]\n",
       "                },\n",
       "                displayAlign: 'center', // Change this to 'center' to center equations.\n",
       "                \"HTML-CSS\": {\n",
       "                    styles: {'.MathJax_Display': {\"margin\": 4}}\n",
       "                }\n",
       "        });\n",
       "</script>\n"
      ],
      "text/plain": [
       "<IPython.core.display.HTML object>"
      ]
     },
     "execution_count": 4,
     "metadata": {},
     "output_type": "execute_result"
    }
   ],
   "source": [
    "# css style\n",
    "from IPython.core.display import HTML\n",
    "def css_styling():\n",
    "    styles = open(\"../../styles/custom.css\", \"r\").read()\n",
    "    return HTML(styles)\n",
    "css_styling()"
   ]
  },
  {
   "cell_type": "code",
   "execution_count": null,
   "metadata": {},
   "outputs": [],
   "source": []
  }
 ],
 "metadata": {
  "kernelspec": {
   "display_name": "Python 3",
   "language": "python",
   "name": "python3"
  },
  "language_info": {
   "codemirror_mode": {
    "name": "ipython",
    "version": 3
   },
   "file_extension": ".py",
   "mimetype": "text/x-python",
   "name": "python",
   "nbconvert_exporter": "python",
   "pygments_lexer": "ipython3",
   "version": "3.5.2"
  }
 },
 "nbformat": 4,
 "nbformat_minor": 2
}
